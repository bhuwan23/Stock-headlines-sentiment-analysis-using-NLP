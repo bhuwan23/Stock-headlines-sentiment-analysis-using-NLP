{
 "cells": [
  {
   "cell_type": "markdown",
   "metadata": {},
   "source": [
    "# Selective-stock-headlines-sentiment"
   ]
  },
  {
   "cell_type": "code",
   "execution_count": 2,
   "metadata": {},
   "outputs": [
    {
     "name": "stderr",
     "output_type": "stream",
     "text": [
      "[nltk_data] Downloading package punkt to C:\\Users\\Bhuwan Chandra\n",
      "[nltk_data]     Bisht\\AppData\\Roaming\\nltk_data...\n",
      "[nltk_data]   Package punkt is already up-to-date!\n",
      "[nltk_data] Downloading package stopwords to C:\\Users\\Bhuwan Chandra\n",
      "[nltk_data]     Bisht\\AppData\\Roaming\\nltk_data...\n",
      "[nltk_data]   Package stopwords is already up-to-date!\n",
      "[nltk_data] Downloading package averaged_perceptron_tagger to\n",
      "[nltk_data]     C:\\Users\\Bhuwan Chandra\n",
      "[nltk_data]     Bisht\\AppData\\Roaming\\nltk_data...\n",
      "[nltk_data]   Package averaged_perceptron_tagger is already up-to-\n",
      "[nltk_data]       date!\n",
      "[nltk_data] Downloading package wordnet to C:\\Users\\Bhuwan Chandra\n",
      "[nltk_data]     Bisht\\AppData\\Roaming\\nltk_data...\n",
      "[nltk_data]   Package wordnet is already up-to-date!\n"
     ]
    }
   ],
   "source": [
    "#import librarry\n",
    "import nltk\n",
    "from nltk.corpus import stopwords\n",
    "import string\n",
    "import re\n",
    "import pandas as pd\n",
    "import numpy as np\n",
    "from nltk import FreqDist\n",
    "from nltk.corpus import wordnet\n",
    "nltk.download('punkt')\n",
    "nltk.download('stopwords')\n",
    "stop_words = set(stopwords.words('english'))\n",
    "nltk.download('averaged_perceptron_tagger')\n",
    "from sklearn.feature_extraction.text import CountVectorizer\n",
    "nltk.download('wordnet')\n",
    "from sklearn.naive_bayes import MultinomialNB\n",
    "from sklearn.model_selection import train_test_split\n",
    "from sklearn.metrics import plot_confusion_matrix\n",
    "from sklearn.metrics import accuracy_score"
   ]
  },
  {
   "cell_type": "code",
   "execution_count": 2,
   "metadata": {},
   "outputs": [],
   "source": [
    "#Sentence tokenization\n",
    "from nltk.tokenize import sent_tokenize"
   ]
  },
  {
   "cell_type": "code",
   "execution_count": 13,
   "metadata": {},
   "outputs": [],
   "source": [
    "#word tokenization\n",
    "from nltk.tokenize import word_tokenize"
   ]
  },
  {
   "cell_type": "code",
   "execution_count": 3,
   "metadata": {},
   "outputs": [],
   "source": [
    "# Importing data set\n",
    "df=pd.read_csv('Project6500.csv', encoding= 'unicode_escape')"
   ]
  },
  {
   "cell_type": "code",
   "execution_count": 5,
   "metadata": {},
   "outputs": [
    {
     "data": {
      "text/html": [
       "<div>\n",
       "<style scoped>\n",
       "    .dataframe tbody tr th:only-of-type {\n",
       "        vertical-align: middle;\n",
       "    }\n",
       "\n",
       "    .dataframe tbody tr th {\n",
       "        vertical-align: top;\n",
       "    }\n",
       "\n",
       "    .dataframe thead th {\n",
       "        text-align: right;\n",
       "    }\n",
       "</style>\n",
       "<table border=\"1\" class=\"dataframe\">\n",
       "  <thead>\n",
       "    <tr style=\"text-align: right;\">\n",
       "      <th></th>\n",
       "      <th>datetime</th>\n",
       "      <th>headline</th>\n",
       "      <th>ticker</th>\n",
       "      <th>sentiment</th>\n",
       "    </tr>\n",
       "  </thead>\n",
       "  <tbody>\n",
       "    <tr>\n",
       "      <th>0</th>\n",
       "      <td>01/16/2020 05:25 AM</td>\n",
       "      <td>$MMM fell on hard times but could be set to re...</td>\n",
       "      <td>MMM</td>\n",
       "      <td>0</td>\n",
       "    </tr>\n",
       "    <tr>\n",
       "      <th>1</th>\n",
       "      <td>01/11/2020 06:43</td>\n",
       "      <td>Wolfe Research Upgrades 3M $MMM to ¡§Peer Perf...</td>\n",
       "      <td>MMM</td>\n",
       "      <td>1</td>\n",
       "    </tr>\n",
       "    <tr>\n",
       "      <th>2</th>\n",
       "      <td>01/09/2020 09:37</td>\n",
       "      <td>3M $MMM Upgraded to ¡§Peer Perform¡¨ by Wolfe ...</td>\n",
       "      <td>MMM</td>\n",
       "      <td>1</td>\n",
       "    </tr>\n",
       "    <tr>\n",
       "      <th>3</th>\n",
       "      <td>01/08/2020 17:01</td>\n",
       "      <td>$MMM #insideday follow up as it also opened up...</td>\n",
       "      <td>MMM</td>\n",
       "      <td>1</td>\n",
       "    </tr>\n",
       "    <tr>\n",
       "      <th>4</th>\n",
       "      <td>01/08/2020 07:44</td>\n",
       "      <td>$MMM is best #dividend #stock out there and do...</td>\n",
       "      <td>MMM</td>\n",
       "      <td>0</td>\n",
       "    </tr>\n",
       "  </tbody>\n",
       "</table>\n",
       "</div>"
      ],
      "text/plain": [
       "              datetime                                           headline  \\\n",
       "0  01/16/2020 05:25 AM  $MMM fell on hard times but could be set to re...   \n",
       "1     01/11/2020 06:43  Wolfe Research Upgrades 3M $MMM to ¡§Peer Perf...   \n",
       "2     01/09/2020 09:37  3M $MMM Upgraded to ¡§Peer Perform¡¨ by Wolfe ...   \n",
       "3     01/08/2020 17:01  $MMM #insideday follow up as it also opened up...   \n",
       "4     01/08/2020 07:44  $MMM is best #dividend #stock out there and do...   \n",
       "\n",
       "  ticker  sentiment  \n",
       "0    MMM          0  \n",
       "1    MMM          1  \n",
       "2    MMM          1  \n",
       "3    MMM          1  \n",
       "4    MMM          0  "
      ]
     },
     "execution_count": 5,
     "metadata": {},
     "output_type": "execute_result"
    }
   ],
   "source": [
    "# dataset summary\n",
    "df.head()"
   ]
  },
  {
   "cell_type": "markdown",
   "metadata": {},
   "source": [
    "# Test Preprocessing"
   ]
  },
  {
   "cell_type": "code",
   "execution_count": 6,
   "metadata": {},
   "outputs": [
    {
     "name": "stdout",
     "output_type": "stream",
     "text": [
      "['mmm' 'axp' 'aapl' 'ba' 'cat' 'cvx' 'csco' 'ko' 'dis' 'dow' 'xom' 'gs'\n",
      " 'hd' 'ibm' 'intc' 'jnj' 'jpm' 'mcd' 'mrk' 'msft' 'nke' 'pfe' 'pg' 'trv'\n",
      " 'utx' 'unh' 'vz' 'v' 'wba' 'wmt' '3m']\n"
     ]
    }
   ],
   "source": [
    "# Save the Ticker Category for the cleaning of tweets and then drop the coloumn\n",
    "df[\"ticker\"] = df[\"ticker\"].str.lower()\n",
    "ticker_category = df.ticker.unique()\n",
    "ticker_category = np.append(ticker_category ,['3m'], axis=0)\n",
    "print(ticker_category)\n",
    "df.drop(['datetime','ticker'],axis =1 , inplace=True )"
   ]
  },
  {
   "cell_type": "code",
   "execution_count": 7,
   "metadata": {},
   "outputs": [
    {
     "data": {
      "text/html": [
       "<div>\n",
       "<style scoped>\n",
       "    .dataframe tbody tr th:only-of-type {\n",
       "        vertical-align: middle;\n",
       "    }\n",
       "\n",
       "    .dataframe tbody tr th {\n",
       "        vertical-align: top;\n",
       "    }\n",
       "\n",
       "    .dataframe thead th {\n",
       "        text-align: right;\n",
       "    }\n",
       "</style>\n",
       "<table border=\"1\" class=\"dataframe\">\n",
       "  <thead>\n",
       "    <tr style=\"text-align: right;\">\n",
       "      <th></th>\n",
       "      <th>headline</th>\n",
       "      <th>sentiment</th>\n",
       "    </tr>\n",
       "  </thead>\n",
       "  <tbody>\n",
       "    <tr>\n",
       "      <th>0</th>\n",
       "      <td>$MMM fell on hard times but could be set to re...</td>\n",
       "      <td>0</td>\n",
       "    </tr>\n",
       "    <tr>\n",
       "      <th>1</th>\n",
       "      <td>Wolfe Research Upgrades 3M $MMM to ¡§Peer Perf...</td>\n",
       "      <td>1</td>\n",
       "    </tr>\n",
       "    <tr>\n",
       "      <th>2</th>\n",
       "      <td>3M $MMM Upgraded to ¡§Peer Perform¡¨ by Wolfe ...</td>\n",
       "      <td>1</td>\n",
       "    </tr>\n",
       "    <tr>\n",
       "      <th>3</th>\n",
       "      <td>$MMM #insideday follow up as it also opened up...</td>\n",
       "      <td>1</td>\n",
       "    </tr>\n",
       "    <tr>\n",
       "      <th>4</th>\n",
       "      <td>$MMM is best #dividend #stock out there and do...</td>\n",
       "      <td>0</td>\n",
       "    </tr>\n",
       "  </tbody>\n",
       "</table>\n",
       "</div>"
      ],
      "text/plain": [
       "                                            headline  sentiment\n",
       "0  $MMM fell on hard times but could be set to re...          0\n",
       "1  Wolfe Research Upgrades 3M $MMM to ¡§Peer Perf...          1\n",
       "2  3M $MMM Upgraded to ¡§Peer Perform¡¨ by Wolfe ...          1\n",
       "3  $MMM #insideday follow up as it also opened up...          1\n",
       "4  $MMM is best #dividend #stock out there and do...          0"
      ]
     },
     "execution_count": 7,
     "metadata": {},
     "output_type": "execute_result"
    }
   ],
   "source": [
    "# Dataset summary after removal of extra coloumns\n",
    "df.head()"
   ]
  },
  {
   "cell_type": "code",
   "execution_count": 4,
   "metadata": {},
   "outputs": [],
   "source": [
    "# Convert the text to lower case\n",
    "df[\"headline\"]=df[\"headline\"].str.lower()\n"
   ]
  },
  {
   "cell_type": "code",
   "execution_count": 9,
   "metadata": {},
   "outputs": [
    {
     "data": {
      "text/plain": [
       "9470"
      ]
     },
     "execution_count": 9,
     "metadata": {},
     "output_type": "execute_result"
    }
   ],
   "source": [
    "len(df['headline'])"
   ]
  },
  {
   "cell_type": "code",
   "execution_count": 13,
   "metadata": {},
   "outputs": [
    {
     "name": "stderr",
     "output_type": "stream",
     "text": [
      "C:\\ProgramData\\Anaconda3\\envs\\bhuwan\\lib\\site-packages\\ipykernel_launcher.py:3: SettingWithCopyWarning: \n",
      "A value is trying to be set on a copy of a slice from a DataFrame\n",
      "\n",
      "See the caveats in the documentation: https://pandas.pydata.org/pandas-docs/stable/user_guide/indexing.html#returning-a-view-versus-a-copy\n",
      "  This is separate from the ipykernel package so we can avoid doing imports until\n"
     ]
    }
   ],
   "source": [
    "# Word tokenization\n",
    "for i in range(len(df['headline'])):\n",
    "    df['headline'][i]=word_tokenize(df['headline'][i])\n",
    "    "
   ]
  },
  {
   "cell_type": "code",
   "execution_count": 14,
   "metadata": {},
   "outputs": [
    {
     "data": {
      "text/html": [
       "<div>\n",
       "<style scoped>\n",
       "    .dataframe tbody tr th:only-of-type {\n",
       "        vertical-align: middle;\n",
       "    }\n",
       "\n",
       "    .dataframe tbody tr th {\n",
       "        vertical-align: top;\n",
       "    }\n",
       "\n",
       "    .dataframe thead th {\n",
       "        text-align: right;\n",
       "    }\n",
       "</style>\n",
       "<table border=\"1\" class=\"dataframe\">\n",
       "  <thead>\n",
       "    <tr style=\"text-align: right;\">\n",
       "      <th></th>\n",
       "      <th>headline</th>\n",
       "      <th>sentiment</th>\n",
       "    </tr>\n",
       "  </thead>\n",
       "  <tbody>\n",
       "    <tr>\n",
       "      <th>0</th>\n",
       "      <td>[$, mmm, fell, on, hard, times, but, could, be...</td>\n",
       "      <td>0</td>\n",
       "    </tr>\n",
       "    <tr>\n",
       "      <th>1</th>\n",
       "      <td>[wolfe, research, upgrades, 3m, $, mmm, to, ¡§...</td>\n",
       "      <td>1</td>\n",
       "    </tr>\n",
       "    <tr>\n",
       "      <th>2</th>\n",
       "      <td>[3m, $, mmm, upgraded, to, ¡§peer, perform¡¨, ...</td>\n",
       "      <td>1</td>\n",
       "    </tr>\n",
       "    <tr>\n",
       "      <th>3</th>\n",
       "      <td>[$, mmm, #, insideday, follow, up, as, it, als...</td>\n",
       "      <td>1</td>\n",
       "    </tr>\n",
       "    <tr>\n",
       "      <th>4</th>\n",
       "      <td>[$, mmm, is, best, #, dividend, #, stock, out,...</td>\n",
       "      <td>0</td>\n",
       "    </tr>\n",
       "  </tbody>\n",
       "</table>\n",
       "</div>"
      ],
      "text/plain": [
       "                                            headline  sentiment\n",
       "0  [$, mmm, fell, on, hard, times, but, could, be...          0\n",
       "1  [wolfe, research, upgrades, 3m, $, mmm, to, ¡§...          1\n",
       "2  [3m, $, mmm, upgraded, to, ¡§peer, perform¡¨, ...          1\n",
       "3  [$, mmm, #, insideday, follow, up, as, it, als...          1\n",
       "4  [$, mmm, is, best, #, dividend, #, stock, out,...          0"
      ]
     },
     "execution_count": 14,
     "metadata": {},
     "output_type": "execute_result"
    }
   ],
   "source": [
    "# Tweets After word tokenization\n",
    "df.head()"
   ]
  },
  {
   "cell_type": "code",
   "execution_count": 15,
   "metadata": {},
   "outputs": [],
   "source": [
    "#Remove punctuations, special characters and stopwords from the text column \n",
    "df['tweets'] = [list() for x in range(len(df.index))]\n",
    "#Remove punctuations  \n",
    "for row_i in range(len(df['headline'])): #for i in range(len(df['headline'])):  #for i in range(3):\n",
    "    \n",
    "    for word_i in range(len(df['headline'][row_i])):        \n",
    "        df['headline'][row_i][word_i] = df['headline'][row_i][word_i].replace('.','')\n",
    "        df['headline'][row_i][word_i] = df['headline'][row_i][word_i].replace(',','')\n",
    "        df['headline'][row_i][word_i] = df['headline'][row_i][word_i].replace('¡¦','')\n",
    "        df['headline'][row_i][word_i] = df['headline'][row_i][word_i].replace('§','')\n",
    "        df['headline'][row_i][word_i] = df['headline'][row_i][word_i].replace('¥','')\n",
    "        df['headline'][row_i][word_i] = df['headline'][row_i][word_i].replace('¡K','')\n",
    "        df['headline'][row_i][word_i] = df['headline'][row_i][word_i].replace('¡','')\n",
    "        df['headline'][row_i][word_i] = df['headline'][row_i][word_i].replace(\"'\",'')\n",
    "        df['headline'][row_i][word_i] = df['headline'][row_i][word_i].replace('$','a')\n",
    "        df['headline'][row_i][word_i] = df['headline'][row_i][word_i].replace(':','')\n",
    "        df['headline'][row_i][word_i] = df['headline'][row_i][word_i].replace('`','')\n",
    "        df['tweets'][row_i].append(df['headline'][row_i][word_i])\n",
    "    \n",
    "    #Removing Punctuations    \n",
    "    for word_j in range(len(df['headline'][row_i])):\n",
    "        try:\n",
    "            #print('word : ' +str(word_j) +'\\n\\t\\t' +  str(df['headline'][row_i][word_j]))\n",
    "            if df['headline'][row_i][word_j] in string.punctuation:\n",
    "                df['tweets'][row_i].remove(df['headline'][row_i][word_j])\n",
    "                # print('punct')\n",
    "        except:\n",
    "            pass\n",
    "        \n",
    "    #Removing Stopwords        \n",
    "    for word_j in range(len(df['headline'][row_i])):\n",
    "        try:\n",
    "            #print('word : ' +str(word_j) +'\\n\\t\\t' +  str(df['headline'][row_i][word_j]))\n",
    "            if df['headline'][row_i][word_j] in stop_words:\n",
    "                df['tweets'][row_i].remove(df['headline'][row_i][word_j])\n",
    "                # print('stopword')\n",
    "                #print(df['headline'][row_i])\n",
    "        except:\n",
    "            pass   \n",
    "     \n",
    "    #Remving Numeric character\n",
    "    for word_j in range(len(df['headline'][row_i])):\n",
    "        try:\n",
    "            #print('word : ' +str(word_j) +'\\n\\t\\t' +  str(df['headline'][row_i][word_j]))\n",
    "            if df['headline'][row_i][word_j].isnumeric() :\n",
    "                df['tweets'][row_i].remove(df['headline'][row_i][word_j])\n",
    "                # print('numeric')\n",
    "        except:\n",
    "            pass  \n",
    "     \n",
    "    #Remving ticker catgetory word\n",
    "    for word_j in range(len(df['headline'][row_i])):\n",
    "        try:\n",
    "            #print('word : ' +str(word_j) +'\\n\\t\\t' +  str(df['headline'][row_i][word_j]))\n",
    "            if df['headline'][row_i][word_j] in ticker_category :\n",
    "                df['tweets'][row_i].remove(df['headline'][row_i][word_j])\n",
    "                # print('ticker ')\n",
    "                \n",
    "        except:\n",
    "            pass\n",
    "    \n",
    "    # Removing Empty words ''\n",
    "    for word_j in range(len(df['headline'][row_i])):\n",
    "        try:\n",
    "            #print('word : ' +str(word_j) +'\\n\\t\\t' +  str(df['headline'][row_i][word_j]))\n",
    "            if df['headline'][row_i][word_j] =='':\n",
    "                df['tweets'][row_i].remove(df['headline'][row_i][word_j])\n",
    "                #print(row_i)\n",
    "               \n",
    "                \n",
    "        except:\n",
    "            pass\n"
   ]
  },
  {
   "cell_type": "code",
   "execution_count": 16,
   "metadata": {},
   "outputs": [
    {
     "data": {
      "text/html": [
       "<div>\n",
       "<style scoped>\n",
       "    .dataframe tbody tr th:only-of-type {\n",
       "        vertical-align: middle;\n",
       "    }\n",
       "\n",
       "    .dataframe tbody tr th {\n",
       "        vertical-align: top;\n",
       "    }\n",
       "\n",
       "    .dataframe thead th {\n",
       "        text-align: right;\n",
       "    }\n",
       "</style>\n",
       "<table border=\"1\" class=\"dataframe\">\n",
       "  <thead>\n",
       "    <tr style=\"text-align: right;\">\n",
       "      <th></th>\n",
       "      <th>headline</th>\n",
       "      <th>sentiment</th>\n",
       "      <th>tweets</th>\n",
       "    </tr>\n",
       "  </thead>\n",
       "  <tbody>\n",
       "    <tr>\n",
       "      <th>0</th>\n",
       "      <td>[a, mmm, fell, on, hard, times, but, could, be...</td>\n",
       "      <td>0</td>\n",
       "      <td>[fell, hard, times, could, set, rebound, soon]</td>\n",
       "    </tr>\n",
       "    <tr>\n",
       "      <th>1</th>\n",
       "      <td>[wolfe, research, upgrades, 3m, a, mmm, to, pe...</td>\n",
       "      <td>1</td>\n",
       "      <td>[wolfe, research, upgrades, peer, perform¨]</td>\n",
       "    </tr>\n",
       "    <tr>\n",
       "      <th>2</th>\n",
       "      <td>[3m, a, mmm, upgraded, to, peer, perform¨, by,...</td>\n",
       "      <td>1</td>\n",
       "      <td>[upgraded, peer, perform¨, wolfe, research, st...</td>\n",
       "    </tr>\n",
       "    <tr>\n",
       "      <th>3</th>\n",
       "      <td>[a, mmm, #, insideday, follow, up, as, it, als...</td>\n",
       "      <td>1</td>\n",
       "      <td>[insideday, follow, also, opened, nice, candle...</td>\n",
       "    </tr>\n",
       "    <tr>\n",
       "      <th>4</th>\n",
       "      <td>[a, mmm, is, best, #, dividend, #, stock, out,...</td>\n",
       "      <td>0</td>\n",
       "      <td>[best, dividend, stock, xli, go, go, please]</td>\n",
       "    </tr>\n",
       "  </tbody>\n",
       "</table>\n",
       "</div>"
      ],
      "text/plain": [
       "                                            headline  sentiment  \\\n",
       "0  [a, mmm, fell, on, hard, times, but, could, be...          0   \n",
       "1  [wolfe, research, upgrades, 3m, a, mmm, to, pe...          1   \n",
       "2  [3m, a, mmm, upgraded, to, peer, perform¨, by,...          1   \n",
       "3  [a, mmm, #, insideday, follow, up, as, it, als...          1   \n",
       "4  [a, mmm, is, best, #, dividend, #, stock, out,...          0   \n",
       "\n",
       "                                              tweets  \n",
       "0     [fell, hard, times, could, set, rebound, soon]  \n",
       "1        [wolfe, research, upgrades, peer, perform¨]  \n",
       "2  [upgraded, peer, perform¨, wolfe, research, st...  \n",
       "3  [insideday, follow, also, opened, nice, candle...  \n",
       "4       [best, dividend, stock, xli, go, go, please]  "
      ]
     },
     "execution_count": 16,
     "metadata": {},
     "output_type": "execute_result"
    }
   ],
   "source": [
    "# Tweets after removal of punctuations\n",
    "df.head()"
   ]
  },
  {
   "cell_type": "code",
   "execution_count": 17,
   "metadata": {},
   "outputs": [],
   "source": [
    "#Updating Ticker category word\n",
    "ticker_category = np.insert(ticker_category , 0 ,['jpmorgan','mcdonalds','mcdonald',\n",
    "                                              'microsoft' , 'nike' , 'apple' , 'chase'] )      \n",
    "ticker_category=ticker_category[ticker_category!='v']\n",
    "ticker_category=ticker_category[ticker_category!='dow']\n",
    "ticker_category=ticker_category[ticker_category!='ba']\n",
    "ticker_category=ticker_category[ticker_category!='cat']\n",
    "ticker_category=ticker_category[ticker_category!='dis']\n",
    "ticker_category=ticker_category[ticker_category!='hd']\n",
    "ticker_category=ticker_category[ticker_category!='gs']\n",
    "ticker_category=ticker_category[ticker_category!='unh']\n",
    "ticker_category=ticker_category[ticker_category!='pg']\n",
    "ticker_category=ticker_category[ticker_category!='ko']"
   ]
  },
  {
   "cell_type": "code",
   "execution_count": 18,
   "metadata": {},
   "outputs": [],
   "source": [
    "# Removing ticker category words\n",
    "for row_i in range(len(df['headline'])): #for i in range(len(df['headline'])):  #for i in range(3): \n",
    "    for word_i in range(len(df['tweets'][row_i])):  \n",
    "        for ticker in ticker_category:\n",
    "            # tmp = df['tweets'][row_i][word_i]\n",
    "            df['tweets'][row_i][word_i] = df['tweets'][row_i][word_i].replace(ticker , '') #df['tweets'][row_i][word_i]\n",
    "            # if tmp != new:\n",
    "            #     print(str(row_i) +': '+ tmp + '--->' + new +'--->'+ ticker )"
   ]
  },
  {
   "cell_type": "code",
   "execution_count": 20,
   "metadata": {},
   "outputs": [],
   "source": [
    "# Lemmatization with Pos Tag\n",
    "df['tweets_lemm'] = [list() for x in range(len(df.index))]\n",
    "# Lemmatization\n",
    "for row_i in range(len(df['tweets'])):\n",
    "    while('' in df['tweets'][row_i]):\n",
    "        df['tweets'][row_i].remove('')\n",
    "\n",
    "    for token , tag in nltk.pos_tag(df['tweets'][row_i]):\n",
    "        if tag.startswith(\"NN\"):\n",
    "            pos = 'n'\n",
    "        elif tag.startswith('VB'):\n",
    "            pos = 'v'\n",
    "        else:\n",
    "            pos = 'a'\n",
    "        \n",
    "        lemmatizer = nltk.WordNetLemmatizer()\n",
    "        token = lemmatizer.lemmatize(token, pos)\n",
    "        df['tweets_lemm'][row_i].append(token)\n",
    "        \n",
    "       # print(token)\n",
    "    #print(str(row_i) +'_____________')"
   ]
  },
  {
   "cell_type": "code",
   "execution_count": 21,
   "metadata": {},
   "outputs": [],
   "source": [
    "df['tweets_w_meaning'] = [list() for x in range(len(df.index))]\n",
    "for row_i in range(len(df['tweets'])):\n",
    "    for word_i in range(len(df['tweets_lemm'][row_i])):\n",
    "        if  any(wordnet.synsets(df['tweets_lemm'][row_i][word_i])):\n",
    "            df['tweets_w_meaning'][row_i].append(df['tweets_lemm'][row_i][word_i])"
   ]
  },
  {
   "cell_type": "code",
   "execution_count": 23,
   "metadata": {},
   "outputs": [],
   "source": [
    "# Create two objects X and y. X will be the 'Tweets' column dataframe and y will be the “Sentiment” column\n",
    "\n",
    "df['tweets_join'] = [' '.join(list) for list in df.tweets_w_meaning]\n",
    "X = df.tweets_join\n",
    "y = df.sentiment"
   ]
  },
  {
   "cell_type": "code",
   "execution_count": 24,
   "metadata": {},
   "outputs": [],
   "source": [
    "# Creating a CountVectorizer object\n",
    "vectorizer = CountVectorizer()\n",
    "A = vectorizer.fit_transform(X)\n",
    "p = A.toarray()"
   ]
  },
  {
   "cell_type": "code",
   "execution_count": 25,
   "metadata": {},
   "outputs": [],
   "source": [
    "#Split the data into training and testing sets\n",
    "X_train, X_test, y_train, y_test = train_test_split(A, y, test_size=0.3)"
   ]
  },
  {
   "cell_type": "code",
   "execution_count": 26,
   "metadata": {},
   "outputs": [],
   "source": [
    "# Train a MultinomialNB model and Display the confusion Matrix \n",
    "clf = MultinomialNB()\n",
    "model = clf.fit(X_train, y_train) \n",
    "                         "
   ]
  },
  {
   "cell_type": "code",
   "execution_count": 30,
   "metadata": {},
   "outputs": [
    {
     "name": "stdout",
     "output_type": "stream",
     "text": [
      "0.8936994016191482\n"
     ]
    }
   ],
   "source": [
    "#Accuracy Score\n",
    "y_pred = clf.predict(X_test)\n",
    "print(accuracy_score(y_test, y_pred))"
   ]
  },
  {
   "cell_type": "code",
   "execution_count": 32,
   "metadata": {},
   "outputs": [
    {
     "name": "stdout",
     "output_type": "stream",
     "text": [
      "[[1018  176]\n",
      " [ 126 1521]]\n"
     ]
    },
    {
     "data": {
      "image/png": "[encoded data removed]",
      "text/plain": [
       "<Figure size 432x288 with 2 Axes>"
      ]
     },
     "metadata": {
      "needs_background": "light"
     },
     "output_type": "display_data"
    }
   ],
   "source": [
    "#Display the confusion Matrix\n",
    "disp = plot_confusion_matrix(clf, X_test, y_test)\n",
    "print(disp.confusion_matrix)   "
   ]
  },
  {
   "cell_type": "markdown",
   "metadata": {},
   "source": [
    "# POS Tagging"
   ]
  },
  {
   "cell_type": "code",
   "execution_count": 26,
   "metadata": {},
   "outputs": [
    {
     "name": "stdout",
     "output_type": "stream",
     "text": [
      "1 Row\n",
      "[('$', '$'), ('mmm', 'NN'), ('fell', 'VBD'), ('on', 'IN'), ('hard', 'JJ'), ('times', 'NNS'), ('but', 'CC'), ('could', 'MD'), ('be', 'VB'), ('set', 'VBN'), ('to', 'TO'), ('rebound', 'VB'), ('soon', 'RB'), ('.', '.')]\n",
      "\n",
      "\n",
      "2 Row\n",
      "[('wolfe', 'JJ'), ('research', 'NN'), ('upgrades', 'VBZ'), ('3m', 'CD'), ('$', '$'), ('mmm', 'NN'), ('to', 'TO'), ('¡§peer', 'VB'), ('perform¡¨', 'NN')]\n",
      "\n",
      "\n",
      "3 Row\n",
      "[('3m', 'CD'), ('$', '$'), ('mmm', 'NN'), ('upgraded', 'VBN'), ('to', 'TO'), ('¡§peer', 'VB'), ('perform¡¨', 'NN'), ('by', 'IN'), ('wolfe', 'JJ'), ('research', 'NN'), ('#', '#'), ('stocks', 'NNS')]\n",
      "\n",
      "\n",
      "4 Row\n",
      "[('$', '$'), ('mmm', 'JJ'), ('#', '#'), ('insideday', 'NN'), ('follow', 'VB'), ('up', 'RP'), ('as', 'IN'), ('it', 'PRP'), ('also', 'RB'), ('opened', 'VBD'), ('up', 'RP'), ('with', 'IN'), ('a', 'DT'), ('nice', 'JJ'), ('candle', 'NN'), ('that', 'WDT'), ('closed', 'VBD'), ('just', 'RB'), ('over', 'IN'), ('the', 'DT'), ('prior', 'JJ'), ('day', 'NN'), (\"'s\", 'POS'), ('high', 'JJ'), ('and', 'CC'), ('th¡k', 'NN')]\n",
      "\n",
      "\n"
     ]
    }
   ],
   "source": [
    "#Display the POS tagging on the first 4 rows of ‘Tweets’  \n",
    "for i in range(4): \n",
    "    word_token=word_tokenize(df['headline'][i]) \n",
    "    word = nltk.pos_tag(word_token)\n",
    "    print(str(i+1) + ' Row')\n",
    "    print(word)\n",
    "    print(\"\\n\")\n",
    "        "
   ]
  },
  {
   "cell_type": "markdown",
   "metadata": {},
   "source": [
    "# Dependency parser tree"
   ]
  },
  {
   "cell_type": "markdown",
   "metadata": {},
   "source": [
    "“He appears to be the leading contender for being voted the new official Lord Commander of the Night's Watch.”"
   ]
  },
  {
   "cell_type": "code",
   "execution_count": 37,
   "metadata": {},
   "outputs": [],
   "source": [
    "import spacy\n",
    "nlp = spacy.load('en_core_web_sm')"
   ]
  },
  {
   "cell_type": "code",
   "execution_count": 38,
   "metadata": {},
   "outputs": [],
   "source": [
    "text = \"He appears to be the leading contender for being voted the new official Lord Commander of the Night's Watch.\""
   ]
  },
  {
   "cell_type": "code",
   "execution_count": 39,
   "metadata": {},
   "outputs": [
    {
     "name": "stdout",
     "output_type": "stream",
     "text": [
      "He => nsubj => appears\n",
      "appears => ROOT => appears\n",
      "to => aux => be\n",
      "be => xcomp => appears\n",
      "the => det => contender\n",
      "leading => amod => contender\n",
      "contender => attr => be\n",
      "for => prep => contender\n",
      "being => auxpass => voted\n",
      "voted => pcomp => for\n",
      "the => det => Commander\n",
      "new => amod => official\n",
      "official => amod => Commander\n",
      "Lord => compound => Commander\n",
      "Commander => oprd => voted\n",
      "of => prep => Commander\n",
      "the => det => Night\n",
      "Night => poss => Watch\n",
      "'s => case => Night\n",
      "Watch => pobj => of\n",
      ". => punct => appears\n"
     ]
    }
   ],
   "source": [
    "for token in nlp(text):\n",
    " print(token.text,'=>',token.dep_,'=>',token.head.text)"
   ]
  },
  {
   "cell_type": "code",
   "execution_count": 36,
   "metadata": {},
   "outputs": [
    {
     "data": {
      "text/html": [
       "<span class=\"tex2jax_ignore\"><svg xmlns=\"http://www.w3.org/2000/svg\" xmlns:xlink=\"http://www.w3.org/1999/xlink\" xml:lang=\"en\" id=\"46d8fabe2e2e4e61add3f0aaa299176d-0\" class=\"displacy\" width=\"3550\" height=\"574.5\" direction=\"ltr\" style=\"max-width: none; height: 574.5px; color: #000000; background: #ffffff; font-family: Arial; direction: ltr\">\n",
       "<text class=\"displacy-token\" fill=\"currentColor\" text-anchor=\"middle\" y=\"484.5\">\n",
       "    <tspan class=\"displacy-word\" fill=\"currentColor\" x=\"50\">He</tspan>\n",
       "    <tspan class=\"displacy-tag\" dy=\"2em\" fill=\"currentColor\" x=\"50\">PRON</tspan>\n",
       "</text>\n",
       "\n",
       "<text class=\"displacy-token\" fill=\"currentColor\" text-anchor=\"middle\" y=\"484.5\">\n",
       "    <tspan class=\"displacy-word\" fill=\"currentColor\" x=\"225\">appears</tspan>\n",
       "    <tspan class=\"displacy-tag\" dy=\"2em\" fill=\"currentColor\" x=\"225\">VERB</tspan>\n",
       "</text>\n",
       "\n",
       "<text class=\"displacy-token\" fill=\"currentColor\" text-anchor=\"middle\" y=\"484.5\">\n",
       "    <tspan class=\"displacy-word\" fill=\"currentColor\" x=\"400\">to</tspan>\n",
       "    <tspan class=\"displacy-tag\" dy=\"2em\" fill=\"currentColor\" x=\"400\">PART</tspan>\n",
       "</text>\n",
       "\n",
       "<text class=\"displacy-token\" fill=\"currentColor\" text-anchor=\"middle\" y=\"484.5\">\n",
       "    <tspan class=\"displacy-word\" fill=\"currentColor\" x=\"575\">be</tspan>\n",
       "    <tspan class=\"displacy-tag\" dy=\"2em\" fill=\"currentColor\" x=\"575\">AUX</tspan>\n",
       "</text>\n",
       "\n",
       "<text class=\"displacy-token\" fill=\"currentColor\" text-anchor=\"middle\" y=\"484.5\">\n",
       "    <tspan class=\"displacy-word\" fill=\"currentColor\" x=\"750\">the</tspan>\n",
       "    <tspan class=\"displacy-tag\" dy=\"2em\" fill=\"currentColor\" x=\"750\">DET</tspan>\n",
       "</text>\n",
       "\n",
       "<text class=\"displacy-token\" fill=\"currentColor\" text-anchor=\"middle\" y=\"484.5\">\n",
       "    <tspan class=\"displacy-word\" fill=\"currentColor\" x=\"925\">leading</tspan>\n",
       "    <tspan class=\"displacy-tag\" dy=\"2em\" fill=\"currentColor\" x=\"925\">VERB</tspan>\n",
       "</text>\n",
       "\n",
       "<text class=\"displacy-token\" fill=\"currentColor\" text-anchor=\"middle\" y=\"484.5\">\n",
       "    <tspan class=\"displacy-word\" fill=\"currentColor\" x=\"1100\">contender</tspan>\n",
       "    <tspan class=\"displacy-tag\" dy=\"2em\" fill=\"currentColor\" x=\"1100\">NOUN</tspan>\n",
       "</text>\n",
       "\n",
       "<text class=\"displacy-token\" fill=\"currentColor\" text-anchor=\"middle\" y=\"484.5\">\n",
       "    <tspan class=\"displacy-word\" fill=\"currentColor\" x=\"1275\">for</tspan>\n",
       "    <tspan class=\"displacy-tag\" dy=\"2em\" fill=\"currentColor\" x=\"1275\">ADP</tspan>\n",
       "</text>\n",
       "\n",
       "<text class=\"displacy-token\" fill=\"currentColor\" text-anchor=\"middle\" y=\"484.5\">\n",
       "    <tspan class=\"displacy-word\" fill=\"currentColor\" x=\"1450\">being</tspan>\n",
       "    <tspan class=\"displacy-tag\" dy=\"2em\" fill=\"currentColor\" x=\"1450\">AUX</tspan>\n",
       "</text>\n",
       "\n",
       "<text class=\"displacy-token\" fill=\"currentColor\" text-anchor=\"middle\" y=\"484.5\">\n",
       "    <tspan class=\"displacy-word\" fill=\"currentColor\" x=\"1625\">voted</tspan>\n",
       "    <tspan class=\"displacy-tag\" dy=\"2em\" fill=\"currentColor\" x=\"1625\">VERB</tspan>\n",
       "</text>\n",
       "\n",
       "<text class=\"displacy-token\" fill=\"currentColor\" text-anchor=\"middle\" y=\"484.5\">\n",
       "    <tspan class=\"displacy-word\" fill=\"currentColor\" x=\"1800\">the</tspan>\n",
       "    <tspan class=\"displacy-tag\" dy=\"2em\" fill=\"currentColor\" x=\"1800\">DET</tspan>\n",
       "</text>\n",
       "\n",
       "<text class=\"displacy-token\" fill=\"currentColor\" text-anchor=\"middle\" y=\"484.5\">\n",
       "    <tspan class=\"displacy-word\" fill=\"currentColor\" x=\"1975\">new</tspan>\n",
       "    <tspan class=\"displacy-tag\" dy=\"2em\" fill=\"currentColor\" x=\"1975\">ADJ</tspan>\n",
       "</text>\n",
       "\n",
       "<text class=\"displacy-token\" fill=\"currentColor\" text-anchor=\"middle\" y=\"484.5\">\n",
       "    <tspan class=\"displacy-word\" fill=\"currentColor\" x=\"2150\">official</tspan>\n",
       "    <tspan class=\"displacy-tag\" dy=\"2em\" fill=\"currentColor\" x=\"2150\">NOUN</tspan>\n",
       "</text>\n",
       "\n",
       "<text class=\"displacy-token\" fill=\"currentColor\" text-anchor=\"middle\" y=\"484.5\">\n",
       "    <tspan class=\"displacy-word\" fill=\"currentColor\" x=\"2325\">Lord</tspan>\n",
       "    <tspan class=\"displacy-tag\" dy=\"2em\" fill=\"currentColor\" x=\"2325\">PROPN</tspan>\n",
       "</text>\n",
       "\n",
       "<text class=\"displacy-token\" fill=\"currentColor\" text-anchor=\"middle\" y=\"484.5\">\n",
       "    <tspan class=\"displacy-word\" fill=\"currentColor\" x=\"2500\">Commander</tspan>\n",
       "    <tspan class=\"displacy-tag\" dy=\"2em\" fill=\"currentColor\" x=\"2500\">PROPN</tspan>\n",
       "</text>\n",
       "\n",
       "<text class=\"displacy-token\" fill=\"currentColor\" text-anchor=\"middle\" y=\"484.5\">\n",
       "    <tspan class=\"displacy-word\" fill=\"currentColor\" x=\"2675\">of</tspan>\n",
       "    <tspan class=\"displacy-tag\" dy=\"2em\" fill=\"currentColor\" x=\"2675\">ADP</tspan>\n",
       "</text>\n",
       "\n",
       "<text class=\"displacy-token\" fill=\"currentColor\" text-anchor=\"middle\" y=\"484.5\">\n",
       "    <tspan class=\"displacy-word\" fill=\"currentColor\" x=\"2850\">the</tspan>\n",
       "    <tspan class=\"displacy-tag\" dy=\"2em\" fill=\"currentColor\" x=\"2850\">DET</tspan>\n",
       "</text>\n",
       "\n",
       "<text class=\"displacy-token\" fill=\"currentColor\" text-anchor=\"middle\" y=\"484.5\">\n",
       "    <tspan class=\"displacy-word\" fill=\"currentColor\" x=\"3025\">Night</tspan>\n",
       "    <tspan class=\"displacy-tag\" dy=\"2em\" fill=\"currentColor\" x=\"3025\">PROPN</tspan>\n",
       "</text>\n",
       "\n",
       "<text class=\"displacy-token\" fill=\"currentColor\" text-anchor=\"middle\" y=\"484.5\">\n",
       "    <tspan class=\"displacy-word\" fill=\"currentColor\" x=\"3200\">'s</tspan>\n",
       "    <tspan class=\"displacy-tag\" dy=\"2em\" fill=\"currentColor\" x=\"3200\">PART</tspan>\n",
       "</text>\n",
       "\n",
       "<text class=\"displacy-token\" fill=\"currentColor\" text-anchor=\"middle\" y=\"484.5\">\n",
       "    <tspan class=\"displacy-word\" fill=\"currentColor\" x=\"3375\">Watch.</tspan>\n",
       "    <tspan class=\"displacy-tag\" dy=\"2em\" fill=\"currentColor\" x=\"3375\">PROPN</tspan>\n",
       "</text>\n",
       "\n",
       "<g class=\"displacy-arrow\">\n",
       "    <path class=\"displacy-arc\" id=\"arrow-46d8fabe2e2e4e61add3f0aaa299176d-0-0\" stroke-width=\"2px\" d=\"M70,439.5 C70,352.0 205.0,352.0 205.0,439.5\" fill=\"none\" stroke=\"currentColor\"/>\n",
       "    <text dy=\"1.25em\" style=\"font-size: 0.8em; letter-spacing: 1px\">\n",
       "        <textPath xlink:href=\"#arrow-46d8fabe2e2e4e61add3f0aaa299176d-0-0\" class=\"displacy-label\" startOffset=\"50%\" side=\"left\" fill=\"currentColor\" text-anchor=\"middle\">nsubj</textPath>\n",
       "    </text>\n",
       "    <path class=\"displacy-arrowhead\" d=\"M70,441.5 L62,429.5 78,429.5\" fill=\"currentColor\"/>\n",
       "</g>\n",
       "\n",
       "<g class=\"displacy-arrow\">\n",
       "    <path class=\"displacy-arc\" id=\"arrow-46d8fabe2e2e4e61add3f0aaa299176d-0-1\" stroke-width=\"2px\" d=\"M420,439.5 C420,352.0 555.0,352.0 555.0,439.5\" fill=\"none\" stroke=\"currentColor\"/>\n",
       "    <text dy=\"1.25em\" style=\"font-size: 0.8em; letter-spacing: 1px\">\n",
       "        <textPath xlink:href=\"#arrow-46d8fabe2e2e4e61add3f0aaa299176d-0-1\" class=\"displacy-label\" startOffset=\"50%\" side=\"left\" fill=\"currentColor\" text-anchor=\"middle\">aux</textPath>\n",
       "    </text>\n",
       "    <path class=\"displacy-arrowhead\" d=\"M420,441.5 L412,429.5 428,429.5\" fill=\"currentColor\"/>\n",
       "</g>\n",
       "\n",
       "<g class=\"displacy-arrow\">\n",
       "    <path class=\"displacy-arc\" id=\"arrow-46d8fabe2e2e4e61add3f0aaa299176d-0-2\" stroke-width=\"2px\" d=\"M245,439.5 C245,264.5 560.0,264.5 560.0,439.5\" fill=\"none\" stroke=\"currentColor\"/>\n",
       "    <text dy=\"1.25em\" style=\"font-size: 0.8em; letter-spacing: 1px\">\n",
       "        <textPath xlink:href=\"#arrow-46d8fabe2e2e4e61add3f0aaa299176d-0-2\" class=\"displacy-label\" startOffset=\"50%\" side=\"left\" fill=\"currentColor\" text-anchor=\"middle\">xcomp</textPath>\n",
       "    </text>\n",
       "    <path class=\"displacy-arrowhead\" d=\"M560.0,441.5 L568.0,429.5 552.0,429.5\" fill=\"currentColor\"/>\n",
       "</g>\n",
       "\n",
       "<g class=\"displacy-arrow\">\n",
       "    <path class=\"displacy-arc\" id=\"arrow-46d8fabe2e2e4e61add3f0aaa299176d-0-3\" stroke-width=\"2px\" d=\"M770,439.5 C770,264.5 1085.0,264.5 1085.0,439.5\" fill=\"none\" stroke=\"currentColor\"/>\n",
       "    <text dy=\"1.25em\" style=\"font-size: 0.8em; letter-spacing: 1px\">\n",
       "        <textPath xlink:href=\"#arrow-46d8fabe2e2e4e61add3f0aaa299176d-0-3\" class=\"displacy-label\" startOffset=\"50%\" side=\"left\" fill=\"currentColor\" text-anchor=\"middle\">det</textPath>\n",
       "    </text>\n",
       "    <path class=\"displacy-arrowhead\" d=\"M770,441.5 L762,429.5 778,429.5\" fill=\"currentColor\"/>\n",
       "</g>\n",
       "\n",
       "<g class=\"displacy-arrow\">\n",
       "    <path class=\"displacy-arc\" id=\"arrow-46d8fabe2e2e4e61add3f0aaa299176d-0-4\" stroke-width=\"2px\" d=\"M945,439.5 C945,352.0 1080.0,352.0 1080.0,439.5\" fill=\"none\" stroke=\"currentColor\"/>\n",
       "    <text dy=\"1.25em\" style=\"font-size: 0.8em; letter-spacing: 1px\">\n",
       "        <textPath xlink:href=\"#arrow-46d8fabe2e2e4e61add3f0aaa299176d-0-4\" class=\"displacy-label\" startOffset=\"50%\" side=\"left\" fill=\"currentColor\" text-anchor=\"middle\">amod</textPath>\n",
       "    </text>\n",
       "    <path class=\"displacy-arrowhead\" d=\"M945,441.5 L937,429.5 953,429.5\" fill=\"currentColor\"/>\n",
       "</g>\n",
       "\n",
       "<g class=\"displacy-arrow\">\n",
       "    <path class=\"displacy-arc\" id=\"arrow-46d8fabe2e2e4e61add3f0aaa299176d-0-5\" stroke-width=\"2px\" d=\"M595,439.5 C595,177.0 1090.0,177.0 1090.0,439.5\" fill=\"none\" stroke=\"currentColor\"/>\n",
       "    <text dy=\"1.25em\" style=\"font-size: 0.8em; letter-spacing: 1px\">\n",
       "        <textPath xlink:href=\"#arrow-46d8fabe2e2e4e61add3f0aaa299176d-0-5\" class=\"displacy-label\" startOffset=\"50%\" side=\"left\" fill=\"currentColor\" text-anchor=\"middle\">attr</textPath>\n",
       "    </text>\n",
       "    <path class=\"displacy-arrowhead\" d=\"M1090.0,441.5 L1098.0,429.5 1082.0,429.5\" fill=\"currentColor\"/>\n",
       "</g>\n",
       "\n",
       "<g class=\"displacy-arrow\">\n",
       "    <path class=\"displacy-arc\" id=\"arrow-46d8fabe2e2e4e61add3f0aaa299176d-0-6\" stroke-width=\"2px\" d=\"M1120,439.5 C1120,352.0 1255.0,352.0 1255.0,439.5\" fill=\"none\" stroke=\"currentColor\"/>\n",
       "    <text dy=\"1.25em\" style=\"font-size: 0.8em; letter-spacing: 1px\">\n",
       "        <textPath xlink:href=\"#arrow-46d8fabe2e2e4e61add3f0aaa299176d-0-6\" class=\"displacy-label\" startOffset=\"50%\" side=\"left\" fill=\"currentColor\" text-anchor=\"middle\">prep</textPath>\n",
       "    </text>\n",
       "    <path class=\"displacy-arrowhead\" d=\"M1255.0,441.5 L1263.0,429.5 1247.0,429.5\" fill=\"currentColor\"/>\n",
       "</g>\n",
       "\n",
       "<g class=\"displacy-arrow\">\n",
       "    <path class=\"displacy-arc\" id=\"arrow-46d8fabe2e2e4e61add3f0aaa299176d-0-7\" stroke-width=\"2px\" d=\"M1470,439.5 C1470,352.0 1605.0,352.0 1605.0,439.5\" fill=\"none\" stroke=\"currentColor\"/>\n",
       "    <text dy=\"1.25em\" style=\"font-size: 0.8em; letter-spacing: 1px\">\n",
       "        <textPath xlink:href=\"#arrow-46d8fabe2e2e4e61add3f0aaa299176d-0-7\" class=\"displacy-label\" startOffset=\"50%\" side=\"left\" fill=\"currentColor\" text-anchor=\"middle\">auxpass</textPath>\n",
       "    </text>\n",
       "    <path class=\"displacy-arrowhead\" d=\"M1470,441.5 L1462,429.5 1478,429.5\" fill=\"currentColor\"/>\n",
       "</g>\n",
       "\n",
       "<g class=\"displacy-arrow\">\n",
       "    <path class=\"displacy-arc\" id=\"arrow-46d8fabe2e2e4e61add3f0aaa299176d-0-8\" stroke-width=\"2px\" d=\"M1295,439.5 C1295,264.5 1610.0,264.5 1610.0,439.5\" fill=\"none\" stroke=\"currentColor\"/>\n",
       "    <text dy=\"1.25em\" style=\"font-size: 0.8em; letter-spacing: 1px\">\n",
       "        <textPath xlink:href=\"#arrow-46d8fabe2e2e4e61add3f0aaa299176d-0-8\" class=\"displacy-label\" startOffset=\"50%\" side=\"left\" fill=\"currentColor\" text-anchor=\"middle\">pcomp</textPath>\n",
       "    </text>\n",
       "    <path class=\"displacy-arrowhead\" d=\"M1610.0,441.5 L1618.0,429.5 1602.0,429.5\" fill=\"currentColor\"/>\n",
       "</g>\n",
       "\n",
       "<g class=\"displacy-arrow\">\n",
       "    <path class=\"displacy-arc\" id=\"arrow-46d8fabe2e2e4e61add3f0aaa299176d-0-9\" stroke-width=\"2px\" d=\"M1820,439.5 C1820,89.5 2495.0,89.5 2495.0,439.5\" fill=\"none\" stroke=\"currentColor\"/>\n",
       "    <text dy=\"1.25em\" style=\"font-size: 0.8em; letter-spacing: 1px\">\n",
       "        <textPath xlink:href=\"#arrow-46d8fabe2e2e4e61add3f0aaa299176d-0-9\" class=\"displacy-label\" startOffset=\"50%\" side=\"left\" fill=\"currentColor\" text-anchor=\"middle\">det</textPath>\n",
       "    </text>\n",
       "    <path class=\"displacy-arrowhead\" d=\"M1820,441.5 L1812,429.5 1828,429.5\" fill=\"currentColor\"/>\n",
       "</g>\n",
       "\n",
       "<g class=\"displacy-arrow\">\n",
       "    <path class=\"displacy-arc\" id=\"arrow-46d8fabe2e2e4e61add3f0aaa299176d-0-10\" stroke-width=\"2px\" d=\"M1995,439.5 C1995,352.0 2130.0,352.0 2130.0,439.5\" fill=\"none\" stroke=\"currentColor\"/>\n",
       "    <text dy=\"1.25em\" style=\"font-size: 0.8em; letter-spacing: 1px\">\n",
       "        <textPath xlink:href=\"#arrow-46d8fabe2e2e4e61add3f0aaa299176d-0-10\" class=\"displacy-label\" startOffset=\"50%\" side=\"left\" fill=\"currentColor\" text-anchor=\"middle\">amod</textPath>\n",
       "    </text>\n",
       "    <path class=\"displacy-arrowhead\" d=\"M1995,441.5 L1987,429.5 2003,429.5\" fill=\"currentColor\"/>\n",
       "</g>\n",
       "\n",
       "<g class=\"displacy-arrow\">\n",
       "    <path class=\"displacy-arc\" id=\"arrow-46d8fabe2e2e4e61add3f0aaa299176d-0-11\" stroke-width=\"2px\" d=\"M2170,439.5 C2170,264.5 2485.0,264.5 2485.0,439.5\" fill=\"none\" stroke=\"currentColor\"/>\n",
       "    <text dy=\"1.25em\" style=\"font-size: 0.8em; letter-spacing: 1px\">\n",
       "        <textPath xlink:href=\"#arrow-46d8fabe2e2e4e61add3f0aaa299176d-0-11\" class=\"displacy-label\" startOffset=\"50%\" side=\"left\" fill=\"currentColor\" text-anchor=\"middle\">amod</textPath>\n",
       "    </text>\n",
       "    <path class=\"displacy-arrowhead\" d=\"M2170,441.5 L2162,429.5 2178,429.5\" fill=\"currentColor\"/>\n",
       "</g>\n",
       "\n",
       "<g class=\"displacy-arrow\">\n",
       "    <path class=\"displacy-arc\" id=\"arrow-46d8fabe2e2e4e61add3f0aaa299176d-0-12\" stroke-width=\"2px\" d=\"M2345,439.5 C2345,352.0 2480.0,352.0 2480.0,439.5\" fill=\"none\" stroke=\"currentColor\"/>\n",
       "    <text dy=\"1.25em\" style=\"font-size: 0.8em; letter-spacing: 1px\">\n",
       "        <textPath xlink:href=\"#arrow-46d8fabe2e2e4e61add3f0aaa299176d-0-12\" class=\"displacy-label\" startOffset=\"50%\" side=\"left\" fill=\"currentColor\" text-anchor=\"middle\">compound</textPath>\n",
       "    </text>\n",
       "    <path class=\"displacy-arrowhead\" d=\"M2345,441.5 L2337,429.5 2353,429.5\" fill=\"currentColor\"/>\n",
       "</g>\n",
       "\n",
       "<g class=\"displacy-arrow\">\n",
       "    <path class=\"displacy-arc\" id=\"arrow-46d8fabe2e2e4e61add3f0aaa299176d-0-13\" stroke-width=\"2px\" d=\"M1645,439.5 C1645,2.0 2500.0,2.0 2500.0,439.5\" fill=\"none\" stroke=\"currentColor\"/>\n",
       "    <text dy=\"1.25em\" style=\"font-size: 0.8em; letter-spacing: 1px\">\n",
       "        <textPath xlink:href=\"#arrow-46d8fabe2e2e4e61add3f0aaa299176d-0-13\" class=\"displacy-label\" startOffset=\"50%\" side=\"left\" fill=\"currentColor\" text-anchor=\"middle\">oprd</textPath>\n",
       "    </text>\n",
       "    <path class=\"displacy-arrowhead\" d=\"M2500.0,441.5 L2508.0,429.5 2492.0,429.5\" fill=\"currentColor\"/>\n",
       "</g>\n",
       "\n",
       "<g class=\"displacy-arrow\">\n",
       "    <path class=\"displacy-arc\" id=\"arrow-46d8fabe2e2e4e61add3f0aaa299176d-0-14\" stroke-width=\"2px\" d=\"M2520,439.5 C2520,352.0 2655.0,352.0 2655.0,439.5\" fill=\"none\" stroke=\"currentColor\"/>\n",
       "    <text dy=\"1.25em\" style=\"font-size: 0.8em; letter-spacing: 1px\">\n",
       "        <textPath xlink:href=\"#arrow-46d8fabe2e2e4e61add3f0aaa299176d-0-14\" class=\"displacy-label\" startOffset=\"50%\" side=\"left\" fill=\"currentColor\" text-anchor=\"middle\">prep</textPath>\n",
       "    </text>\n",
       "    <path class=\"displacy-arrowhead\" d=\"M2655.0,441.5 L2663.0,429.5 2647.0,429.5\" fill=\"currentColor\"/>\n",
       "</g>\n",
       "\n",
       "<g class=\"displacy-arrow\">\n",
       "    <path class=\"displacy-arc\" id=\"arrow-46d8fabe2e2e4e61add3f0aaa299176d-0-15\" stroke-width=\"2px\" d=\"M2870,439.5 C2870,352.0 3005.0,352.0 3005.0,439.5\" fill=\"none\" stroke=\"currentColor\"/>\n",
       "    <text dy=\"1.25em\" style=\"font-size: 0.8em; letter-spacing: 1px\">\n",
       "        <textPath xlink:href=\"#arrow-46d8fabe2e2e4e61add3f0aaa299176d-0-15\" class=\"displacy-label\" startOffset=\"50%\" side=\"left\" fill=\"currentColor\" text-anchor=\"middle\">det</textPath>\n",
       "    </text>\n",
       "    <path class=\"displacy-arrowhead\" d=\"M2870,441.5 L2862,429.5 2878,429.5\" fill=\"currentColor\"/>\n",
       "</g>\n",
       "\n",
       "<g class=\"displacy-arrow\">\n",
       "    <path class=\"displacy-arc\" id=\"arrow-46d8fabe2e2e4e61add3f0aaa299176d-0-16\" stroke-width=\"2px\" d=\"M3045,439.5 C3045,264.5 3360.0,264.5 3360.0,439.5\" fill=\"none\" stroke=\"currentColor\"/>\n",
       "    <text dy=\"1.25em\" style=\"font-size: 0.8em; letter-spacing: 1px\">\n",
       "        <textPath xlink:href=\"#arrow-46d8fabe2e2e4e61add3f0aaa299176d-0-16\" class=\"displacy-label\" startOffset=\"50%\" side=\"left\" fill=\"currentColor\" text-anchor=\"middle\">poss</textPath>\n",
       "    </text>\n",
       "    <path class=\"displacy-arrowhead\" d=\"M3045,441.5 L3037,429.5 3053,429.5\" fill=\"currentColor\"/>\n",
       "</g>\n",
       "\n",
       "<g class=\"displacy-arrow\">\n",
       "    <path class=\"displacy-arc\" id=\"arrow-46d8fabe2e2e4e61add3f0aaa299176d-0-17\" stroke-width=\"2px\" d=\"M3045,439.5 C3045,352.0 3180.0,352.0 3180.0,439.5\" fill=\"none\" stroke=\"currentColor\"/>\n",
       "    <text dy=\"1.25em\" style=\"font-size: 0.8em; letter-spacing: 1px\">\n",
       "        <textPath xlink:href=\"#arrow-46d8fabe2e2e4e61add3f0aaa299176d-0-17\" class=\"displacy-label\" startOffset=\"50%\" side=\"left\" fill=\"currentColor\" text-anchor=\"middle\">case</textPath>\n",
       "    </text>\n",
       "    <path class=\"displacy-arrowhead\" d=\"M3180.0,441.5 L3188.0,429.5 3172.0,429.5\" fill=\"currentColor\"/>\n",
       "</g>\n",
       "\n",
       "<g class=\"displacy-arrow\">\n",
       "    <path class=\"displacy-arc\" id=\"arrow-46d8fabe2e2e4e61add3f0aaa299176d-0-18\" stroke-width=\"2px\" d=\"M2695,439.5 C2695,89.5 3370.0,89.5 3370.0,439.5\" fill=\"none\" stroke=\"currentColor\"/>\n",
       "    <text dy=\"1.25em\" style=\"font-size: 0.8em; letter-spacing: 1px\">\n",
       "        <textPath xlink:href=\"#arrow-46d8fabe2e2e4e61add3f0aaa299176d-0-18\" class=\"displacy-label\" startOffset=\"50%\" side=\"left\" fill=\"currentColor\" text-anchor=\"middle\">pobj</textPath>\n",
       "    </text>\n",
       "    <path class=\"displacy-arrowhead\" d=\"M3370.0,441.5 L3378.0,429.5 3362.0,429.5\" fill=\"currentColor\"/>\n",
       "</g>\n",
       "</svg></span>"
      ],
      "text/plain": [
       "<IPython.core.display.HTML object>"
      ]
     },
     "metadata": {},
     "output_type": "display_data"
    }
   ],
   "source": [
    "from spacy import displacy\n",
    "displacy.render(nlp(text),jupyter=True)"
   ]
  }
 ],
 "metadata": {
  "kernelspec": {
   "display_name": "Python 3",
   "language": "python",
   "name": "python3"
  },
  "language_info": {
   "codemirror_mode": {
    "name": "ipython",
    "version": 3
   },
   "file_extension": ".py",
   "mimetype": "text/x-python",
   "name": "python",
   "nbconvert_exporter": "python",
   "pygments_lexer": "ipython3",
   "version": "3.7.6"
  }
 },
 "nbformat": 4,
 "nbformat_minor": 4
}
